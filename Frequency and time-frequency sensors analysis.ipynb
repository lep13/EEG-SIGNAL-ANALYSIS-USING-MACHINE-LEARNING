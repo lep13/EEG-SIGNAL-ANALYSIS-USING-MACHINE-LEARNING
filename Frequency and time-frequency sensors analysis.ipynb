{
 "cells": [
  {
   "cell_type": "code",
   "execution_count": 1,
   "id": "5857a795",
   "metadata": {},
   "outputs": [],
   "source": [
    "#importing required modules\n",
    "import pathlib\n",
    "import matplotlib\n",
    "\n",
    "import mne\n",
    "import mne_bids\n",
    "\n",
    "matplotlib.use('Qt5Agg')\n",
    "mne.set_log_level('warning')"
   ]
  },
  {
   "cell_type": "code",
   "execution_count": 2,
   "id": "0f55c12c",
   "metadata": {},
   "outputs": [],
   "source": [
    "#reading epochs\n",
    "epochs = mne.read_epochs(pathlib.Path('out_data') / 'epochs_epo.fif')  #freq analysis"
   ]
  },
  {
   "cell_type": "code",
   "execution_count": 3,
   "id": "e9b3fdde",
   "metadata": {},
   "outputs": [],
   "source": [
    "#picking the Auditory Cortex epochs\n",
    "##auditory epochs gives frequency segemnts(brain oscillations): Delta Theta Alpha Beta Gamma\n",
    "epochs.apply_proj()\n",
    "epochs_auditory = epochs['Auditory']"
   ]
  },
  {
   "cell_type": "code",
   "execution_count": 4,
   "id": "fd1a54d1",
   "metadata": {},
   "outputs": [
    {
     "data": {
      "text/plain": [
       "<Figure size 1366x663 with 10 Axes>"
      ]
     },
     "execution_count": 4,
     "metadata": {},
     "output_type": "execute_result"
    }
   ],
   "source": [
    "#plotting as topomap taking only EEG data\n",
    "epochs_auditory.plot_psd_topomap(ch_type='eeg', normalize=False)"
   ]
  },
  {
   "cell_type": "code",
   "execution_count": 5,
   "id": "a557818d",
   "metadata": {},
   "outputs": [],
   "source": [
    "#time-freq analysis\n",
    "import numpy as np\n",
    "# define frequencies of interest (log-spaced)\n",
    "freqs = np.logspace(*np.log10([2, 30]), num=20)\n",
    "# different number of cycle per frequency\n",
    "n_cycles = freqs / 2.  \n",
    "#using Morlet time-frequency composition and FFT based convolution we get power and itc\n",
    "power, itc = mne.time_frequency.tfr_morlet(epochs_auditory, freqs=freqs, n_cycles=n_cycles, use_fft=True,\n",
    "                                           return_itc=True, decim=3, n_jobs=1)"
   ]
  },
  {
   "cell_type": "code",
   "execution_count": 6,
   "id": "d51688c7",
   "metadata": {},
   "outputs": [],
   "source": [
    "baseline_mode = 'logratio'\n",
    "baseline = (None, 1)"
   ]
  },
  {
   "cell_type": "code",
   "execution_count": 7,
   "id": "f69e036f",
   "metadata": {},
   "outputs": [
    {
     "data": {
      "text/plain": [
       "[<Figure size 640x480 with 2 Axes>]"
      ]
     },
     "execution_count": 7,
     "metadata": {},
     "output_type": "execute_result"
    }
   ],
   "source": [
    "power.plot(picks='EEG 050', baseline=baseline, mode=baseline_mode, title='FFT window of EG050 sensor')   #plotting power for sensor: EEG 050"
   ]
  },
  {
   "cell_type": "code",
   "execution_count": null,
   "id": "0b8556de",
   "metadata": {},
   "outputs": [],
   "source": [
    "itc.plot_topo(power.copy()\n",
    " .pick_types(eeg=True, meg=False)\n",
    " .plot_topo(title='Inter-Trial coherence of EEG channels'))"
   ]
  },
  {
   "cell_type": "code",
   "execution_count": null,
   "id": "948b070d",
   "metadata": {},
   "outputs": [],
   "source": []
  }
 ],
 "metadata": {
  "kernelspec": {
   "display_name": "Python 3 (ipykernel)",
   "language": "python",
   "name": "python3"
  },
  "language_info": {
   "codemirror_mode": {
    "name": "ipython",
    "version": 3
   },
   "file_extension": ".py",
   "mimetype": "text/x-python",
   "name": "python",
   "nbconvert_exporter": "python",
   "pygments_lexer": "ipython3",
   "version": "3.11.0"
  }
 },
 "nbformat": 4,
 "nbformat_minor": 5
}
