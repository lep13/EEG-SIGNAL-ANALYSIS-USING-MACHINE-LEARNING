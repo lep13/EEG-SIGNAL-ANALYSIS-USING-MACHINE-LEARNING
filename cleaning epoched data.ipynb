{
 "cells": [
  {
   "cell_type": "code",
   "execution_count": 1,
   "id": "3373acf5",
   "metadata": {},
   "outputs": [],
   "source": [
    "import pathlib\n",
    "import matplotlib\n",
    "\n",
    "import mne\n",
    "import mne_bids\n",
    "\n",
    "matplotlib.use('Qt5Agg')\n",
    "mne.set_log_level('warning')"
   ]
  },
  {
   "cell_type": "code",
   "execution_count": 2,
   "id": "6d6a716a",
   "metadata": {},
   "outputs": [
    {
     "data": {
      "text/html": [
       "<table class=\"table table-hover table-striped table-sm table-responsive small\">\n",
       "    <tr>\n",
       "        <th>Number of events</th>\n",
       "        <td>320</td>\n",
       "    </tr>\n",
       "    <tr>\n",
       "        <th>Events</th>\n",
       "        \n",
       "        <td>Auditory/Left: 72<br/>Auditory/Right: 73<br/>Button: 16<br/>Smiley: 15<br/>Visual/Left: 73<br/>Visual/Right: 71</td>\n",
       "        \n",
       "    </tr>\n",
       "    <tr>\n",
       "        <th>Time range</th>\n",
       "        <td>-0.300 – 0.499 sec</td>\n",
       "    </tr>\n",
       "    <tr>\n",
       "        <th>Baseline</th>\n",
       "        <td>-0.300 – 0.000 sec</td>\n",
       "    </tr>\n",
       "</table>"
      ],
      "text/plain": [
       "<EpochsFIF |  320 events (all good), -0.299693 - 0.499488 sec, baseline -0.299693 – 0 sec, ~441.9 MB, data loaded,\n",
       " 'Auditory/Left': 72\n",
       " 'Auditory/Right': 73\n",
       " 'Button': 16\n",
       " 'Smiley': 15\n",
       " 'Visual/Left': 73\n",
       " 'Visual/Right': 71>"
      ]
     },
     "execution_count": 2,
     "metadata": {},
     "output_type": "execute_result"
    }
   ],
   "source": [
    "epochs = mne.read_epochs(pathlib.Path('out_data') / 'epochs_epo.fif')\n",
    "epochs"
   ]
  },
  {
   "cell_type": "code",
   "execution_count": 3,
   "id": "d6489bf5",
   "metadata": {},
   "outputs": [
    {
     "data": {
      "text/html": [
       "<table class=\"table table-hover table-striped table-sm table-responsive small\">\n",
       "    <tr>\n",
       "        <th>Number of events</th>\n",
       "        <td>320</td>\n",
       "    </tr>\n",
       "    <tr>\n",
       "        <th>Events</th>\n",
       "        \n",
       "        <td>Auditory/Left: 72<br/>Auditory/Right: 73<br/>Button: 16<br/>Smiley: 15<br/>Visual/Left: 73<br/>Visual/Right: 71</td>\n",
       "        \n",
       "    </tr>\n",
       "    <tr>\n",
       "        <th>Time range</th>\n",
       "        <td>-0.300 – 0.499 sec</td>\n",
       "    </tr>\n",
       "    <tr>\n",
       "        <th>Baseline</th>\n",
       "        <td>-0.300 – 0.000 sec</td>\n",
       "    </tr>\n",
       "</table>"
      ],
      "text/plain": [
       "<EpochsFIF |  320 events (all good), -0.299693 - 0.499488 sec, baseline -0.299693 – 0 sec, ~441.9 MB, data loaded,\n",
       " 'Auditory/Left': 72\n",
       " 'Auditory/Right': 73\n",
       " 'Button': 16\n",
       " 'Smiley': 15\n",
       " 'Visual/Left': 73\n",
       " 'Visual/Right': 71>"
      ]
     },
     "execution_count": 3,
     "metadata": {},
     "output_type": "execute_result"
    }
   ],
   "source": [
    "epochs.apply_baseline((None, 0))"
   ]
  },
  {
   "cell_type": "code",
   "execution_count": 4,
   "id": "525e78b5",
   "metadata": {},
   "outputs": [],
   "source": [
    "reject_criteria = dict(mag=3000e-15,     # 3000 fT\n",
    "                       grad=3000e-13,    # 3000 fT/cm\n",
    "                       eeg=150e-6,       # 150 µV\n",
    "                       eog=200e-6)       # 200 µV\n",
    "\n",
    "flat_criteria = dict(mag=1e-15,          # 1 fT\n",
    "                     grad=1e-13,         # 1 fT/cm\n",
    "                     eeg=1e-6)           # 1 µV"
   ]
  },
  {
   "cell_type": "code",
   "execution_count": 5,
   "id": "b28e3f87",
   "metadata": {},
   "outputs": [
    {
     "data": {
      "text/html": [
       "<table class=\"table table-hover table-striped table-sm table-responsive small\">\n",
       "    <tr>\n",
       "        <th>Number of events</th>\n",
       "        <td>271</td>\n",
       "    </tr>\n",
       "    <tr>\n",
       "        <th>Events</th>\n",
       "        \n",
       "        <td>Auditory/Left: 57<br/>Auditory/Right: 61<br/>Button: 15<br/>Smiley: 14<br/>Visual/Left: 67<br/>Visual/Right: 57</td>\n",
       "        \n",
       "    </tr>\n",
       "    <tr>\n",
       "        <th>Time range</th>\n",
       "        <td>-0.300 – 0.499 sec</td>\n",
       "    </tr>\n",
       "    <tr>\n",
       "        <th>Baseline</th>\n",
       "        <td>-0.300 – 0.000 sec</td>\n",
       "    </tr>\n",
       "</table>"
      ],
      "text/plain": [
       "<EpochsFIF |  271 events (all good), -0.299693 - 0.499488 sec, baseline -0.299693 – 0 sec, ~374.3 MB, data loaded,\n",
       " 'Auditory/Left': 57\n",
       " 'Auditory/Right': 61\n",
       " 'Button': 15\n",
       " 'Smiley': 14\n",
       " 'Visual/Left': 67\n",
       " 'Visual/Right': 57>"
      ]
     },
     "execution_count": 5,
     "metadata": {},
     "output_type": "execute_result"
    }
   ],
   "source": [
    "epochs.drop_bad(reject=reject_criteria, flat=flat_criteria)"
   ]
  },
  {
   "cell_type": "code",
   "execution_count": 6,
   "id": "74daecf0",
   "metadata": {},
   "outputs": [
    {
     "name": "stderr",
     "output_type": "stream",
     "text": [
      "C:\\Users\\Dell\\AppData\\Local\\Temp\\ipykernel_15612\\850005856.py:10: RuntimeWarning: The unit for channel(s) STI 001, STI 002, STI 003, STI 004, STI 005, STI 006, STI 014, STI 015, STI 016 has changed from V to NA.\n",
      "  raw = mne_bids.read_raw_bids(bids_path)\n"
     ]
    }
   ],
   "source": [
    "bids_root = pathlib.Path('out_data/sample_BIDS')\n",
    "\n",
    "bids_path = mne_bids.BIDSPath(subject='01',\n",
    "                              session='01',\n",
    "                              task='audiovisual',\n",
    "                              run='01',\n",
    "                              datatype='meg',\n",
    "                              root=bids_root)\n",
    "\n",
    "raw = mne_bids.read_raw_bids(bids_path)\n",
    "raw.load_data()\n",
    "raw.filter(l_freq=0.1, h_freq=40)\n",
    "\n",
    "ecg_projs, ecg_events = mne.preprocessing.compute_proj_ecg(raw, n_grad=1, n_mag=1, n_eeg=0,\n",
    "                                                           average=True)\n",
    "\n",
    "eog_projs, eog_events = mne.preprocessing.compute_proj_eog(raw, n_grad=1, n_mag=1,\n",
    "                                                           n_eeg=1, average=True)"
   ]
  },
  {
   "cell_type": "code",
   "execution_count": 7,
   "id": "0d7e1f4e",
   "metadata": {},
   "outputs": [
    {
     "data": {
      "text/plain": [
       "[<Projection | PCA-v1, active : False, n_channels : 102>,\n",
       " <Projection | PCA-v2, active : False, n_channels : 102>,\n",
       " <Projection | PCA-v3, active : False, n_channels : 102>,\n",
       " <Projection | EOG-planar--0.200-0.200-PCA-01, active : False, n_channels : 203, exp. var : 92.61%>,\n",
       " <Projection | EOG-axial--0.200-0.200-PCA-01, active : False, n_channels : 102, exp. var : 88.38%>,\n",
       " <Projection | EOG-eeg--0.200-0.200-PCA-01, active : False, n_channels : 59, exp. var : 98.97%>]"
      ]
     },
     "execution_count": 7,
     "metadata": {},
     "output_type": "execute_result"
    }
   ],
   "source": [
    "eog_projs"
   ]
  },
  {
   "cell_type": "code",
   "execution_count": 8,
   "id": "3a34347a",
   "metadata": {},
   "outputs": [
    {
     "data": {
      "text/plain": [
       "[<Projection | PCA-v1, active : False, n_channels : 102>,\n",
       " <Projection | PCA-v2, active : False, n_channels : 102>,\n",
       " <Projection | PCA-v3, active : False, n_channels : 102>,\n",
       " <Projection | EOG-planar--0.200-0.200-PCA-01, active : False, n_channels : 203, exp. var : 92.61%>,\n",
       " <Projection | EOG-axial--0.200-0.200-PCA-01, active : False, n_channels : 102, exp. var : 88.38%>,\n",
       " <Projection | EOG-eeg--0.200-0.200-PCA-01, active : False, n_channels : 59, exp. var : 98.97%>,\n",
       " <Projection | PCA-v1, active : False, n_channels : 102>,\n",
       " <Projection | PCA-v2, active : False, n_channels : 102>,\n",
       " <Projection | PCA-v3, active : False, n_channels : 102>,\n",
       " <Projection | ECG-planar--0.200-0.400-PCA-01, active : False, n_channels : 203, exp. var : 78.55%>,\n",
       " <Projection | ECG-axial--0.200-0.400-PCA-01, active : False, n_channels : 102, exp. var : 94.80%>]"
      ]
     },
     "execution_count": 8,
     "metadata": {},
     "output_type": "execute_result"
    }
   ],
   "source": [
    "projs = eog_projs + ecg_projs\n",
    "projs"
   ]
  },
  {
   "cell_type": "code",
   "execution_count": 9,
   "id": "bd62c4af",
   "metadata": {},
   "outputs": [
    {
     "data": {
      "text/html": [
       "<table class=\"table table-hover table-striped table-sm table-responsive small\">\n",
       "    <tr>\n",
       "        <th>Number of events</th>\n",
       "        <td>271</td>\n",
       "    </tr>\n",
       "    <tr>\n",
       "        <th>Events</th>\n",
       "        \n",
       "        <td>Auditory/Left: 57<br/>Auditory/Right: 61<br/>Button: 15<br/>Smiley: 14<br/>Visual/Left: 67<br/>Visual/Right: 57</td>\n",
       "        \n",
       "    </tr>\n",
       "    <tr>\n",
       "        <th>Time range</th>\n",
       "        <td>-0.300 – 0.499 sec</td>\n",
       "    </tr>\n",
       "    <tr>\n",
       "        <th>Baseline</th>\n",
       "        <td>-0.300 – 0.000 sec</td>\n",
       "    </tr>\n",
       "</table>"
      ],
      "text/plain": [
       "<EpochsFIF |  271 events (all good), -0.299693 - 0.499488 sec, baseline -0.299693 – 0 sec, ~374.4 MB, data loaded,\n",
       " 'Auditory/Left': 57\n",
       " 'Auditory/Right': 61\n",
       " 'Button': 15\n",
       " 'Smiley': 14\n",
       " 'Visual/Left': 67\n",
       " 'Visual/Right': 57>"
      ]
     },
     "execution_count": 9,
     "metadata": {},
     "output_type": "execute_result"
    }
   ],
   "source": [
    "epochs.add_proj(projs)\n"
   ]
  },
  {
   "cell_type": "code",
   "execution_count": null,
   "id": "4c3e243c",
   "metadata": {},
   "outputs": [],
   "source": [
    "epochs_cleaned = epochs.copy().apply_proj()\n",
    "\n",
    "#epochs_cleaned['Visual'].plot_image()\n",
    "epochs_cleaned['Visual'].plot_image(picks='EEG 060')"
   ]
  },
  {
   "cell_type": "code",
   "execution_count": 21,
   "id": "1d27be0c",
   "metadata": {},
   "outputs": [
    {
     "name": "stderr",
     "output_type": "stream",
     "text": [
      "C:\\Users\\Dell\\AppData\\Local\\Temp\\ipykernel_15612\\699562409.py:10: RuntimeWarning: The unit for channel(s) STI 001, STI 002, STI 003, STI 004, STI 005, STI 006, STI 014, STI 015, STI 016 has changed from V to NA.\n",
      "  raw = mne_bids.read_raw_bids(bids_path)\n"
     ]
    },
    {
     "data": {
      "text/html": [
       "<table class=\"table table-hover table-striped table-sm table-responsive small\">\n",
       "    <tr>\n",
       "        <th>Measurement date</th>\n",
       "        \n",
       "        <td>December 03, 2002  19:01:10 GMT</td>\n",
       "        \n",
       "    </tr>\n",
       "    <tr>\n",
       "        <th>Experimenter</th>\n",
       "        \n",
       "        <td>mne_anonymize</td>\n",
       "        \n",
       "    </tr>\n",
       "        <th>Participant</th>\n",
       "        \n",
       "            \n",
       "            <td>sub-01</td>\n",
       "            \n",
       "        \n",
       "    </tr>\n",
       "    <tr>\n",
       "        <th>Digitized points</th>\n",
       "        \n",
       "        <td>146 points</td>\n",
       "        \n",
       "    </tr>\n",
       "    <tr>\n",
       "        <th>Good channels</th>\n",
       "        <td>204 Gradiometers, 102 Magnetometers, 9 Stimulus, 60 EEG, 1 EOG</td>\n",
       "    </tr>\n",
       "    <tr>\n",
       "        <th>Bad channels</th>\n",
       "        <td>MEG 2443, EEG 053</td>\n",
       "    </tr>\n",
       "    <tr>\n",
       "        <th>EOG channels</th>\n",
       "        <td>EOG 061</td>\n",
       "    </tr>\n",
       "    <tr>\n",
       "        <th>ECG channels</th>\n",
       "        <td>Not available</td>\n",
       "    \n",
       "    <tr>\n",
       "        <th>Sampling frequency</th>\n",
       "        <td>600.61 Hz</td>\n",
       "    </tr>\n",
       "    \n",
       "    \n",
       "    <tr>\n",
       "        <th>Highpass</th>\n",
       "        <td>1.00 Hz</td>\n",
       "    </tr>\n",
       "    \n",
       "    \n",
       "    <tr>\n",
       "        <th>Lowpass</th>\n",
       "        <td>40.00 Hz</td>\n",
       "    </tr>\n",
       "    \n",
       "    \n",
       "    <tr>\n",
       "        <th>Projections</th>\n",
       "        <td>PCA-v1 : off<br/>PCA-v2 : off<br/>PCA-v3 : off</td>\n",
       "    </tr>\n",
       "    \n",
       "    \n",
       "    <tr>\n",
       "        <th>Filenames</th>\n",
       "        <td>sub-01_ses-01_task-audiovisual_run-01_meg.fif</td>\n",
       "    </tr>\n",
       "    \n",
       "    <tr>\n",
       "        <th>Duration</th>\n",
       "        <td>00:04:38 (HH:MM:SS)</td>\n",
       "    </tr>\n",
       "</table>"
      ],
      "text/plain": [
       "<Raw | sub-01_ses-01_task-audiovisual_run-01_meg.fif, 376 x 166800 (277.7 s), ~478.9 MB, data loaded>"
      ]
     },
     "execution_count": 21,
     "metadata": {},
     "output_type": "execute_result"
    }
   ],
   "source": [
    "bids_root = pathlib.Path('out_data/sample_BIDS')\n",
    "\n",
    "bids_path = mne_bids.BIDSPath(subject='01',\n",
    "                              session='01',\n",
    "                              task='audiovisual',\n",
    "                              run='01',\n",
    "                              datatype='meg',\n",
    "                              root=bids_root)\n",
    "\n",
    "raw = mne_bids.read_raw_bids(bids_path)\n",
    "raw.load_data()\n",
    "raw.filter(l_freq=1, h_freq=40)  # High-pass with 1. Hz cut-off is recommended for ICA"
   ]
  },
  {
   "cell_type": "code",
   "execution_count": 22,
   "id": "c6beb48e",
   "metadata": {},
   "outputs": [
    {
     "data": {
      "text/plain": [
       "array([  0,   1,   2,   3,   4,   5,   6,   7,   8,   9,  10,  11,  12,\n",
       "        13,  14,  15,  16,  17,  18,  19,  20,  21,  22,  23,  24,  25,\n",
       "        26,  27,  28,  29,  30,  31,  32,  33,  34,  35,  36,  37,  38,\n",
       "        39,  40,  41,  42,  43,  44,  45,  46,  47,  48,  49,  50,  51,\n",
       "        52,  53,  54,  55,  56,  57,  58,  59,  60,  61,  62,  63,  64,\n",
       "        65,  66,  67,  68,  69,  70,  71,  72,  73,  74,  75,  76,  77,\n",
       "        78,  79,  80,  81,  82,  83,  84,  85,  86,  87,  88,  89,  90,\n",
       "        91,  92,  93,  94,  95,  96,  97,  98,  99, 100, 101, 102, 103,\n",
       "       104, 105, 106, 107, 108, 109, 110, 111, 112, 113, 114, 115, 116,\n",
       "       117, 118, 119, 120, 121, 122, 123, 124, 125, 126, 127, 128, 129,\n",
       "       130, 131, 132, 133, 134, 135, 136, 137, 138, 139, 140, 141, 142,\n",
       "       143, 144, 145, 146, 147, 148, 149, 150, 151, 152, 153, 154, 155,\n",
       "       156, 157, 158, 159, 160, 161, 162, 163, 164, 165, 166, 167, 168,\n",
       "       169, 170, 171, 172, 173, 174, 175, 176, 177, 178, 179, 180, 181,\n",
       "       182, 183, 184, 185, 186, 187, 188, 189, 190, 191, 192, 193, 194,\n",
       "       195, 196, 197, 198, 199, 200, 201, 202, 203, 204, 205, 206, 207,\n",
       "       208, 209, 210, 211, 212, 213, 214, 215, 216, 217, 218, 219, 220,\n",
       "       221, 222, 223, 224, 225, 226, 227, 228, 229, 230, 231, 232, 233,\n",
       "       234, 235, 236, 237, 238, 239, 240, 241, 242, 243, 244, 245, 246,\n",
       "       247, 248, 249, 250, 251, 252, 253, 254, 255, 256, 257, 258, 259,\n",
       "       260, 261, 262, 263, 264, 265, 266, 267, 268, 269, 270, 271, 272,\n",
       "       273, 274, 275, 276, 277, 278, 279, 280, 281, 282, 283, 284, 285,\n",
       "       286, 287, 288, 289, 290, 291, 292, 293, 294, 295, 296, 297, 298,\n",
       "       299, 300, 301, 302, 303, 304, 305, 306, 307, 308, 309, 310, 311,\n",
       "       312, 313, 314, 315, 316, 317, 318, 319])"
      ]
     },
     "execution_count": 22,
     "metadata": {},
     "output_type": "execute_result"
    }
   ],
   "source": [
    "epochs = mne.read_epochs(pathlib.Path('out_data') / 'epochs_epo.fif')\n",
    "epochs_selection = epochs.selection\n",
    "epochs_selection"
   ]
  },
  {
   "cell_type": "code",
   "execution_count": 23,
   "id": "1e1dc5ea",
   "metadata": {},
   "outputs": [],
   "source": [
    "events, event_id = mne.events_from_annotations(raw)\n",
    "events = events[epochs_selection]"
   ]
  },
  {
   "cell_type": "code",
   "execution_count": null,
   "id": "fe5bf7e5",
   "metadata": {},
   "outputs": [],
   "source": [
    "tmin = -0.3\n",
    "tmax = 0.5\n",
    "baseline = (None, 0)\n",
    "\n",
    "epochs_ica = mne.Epochs(raw,\n",
    "                        events=events,\n",
    "                        event_id=event_id,\n",
    "                        tmin=tmin,\n",
    "                        tmax=tmax,\n",
    "                        baseline=baseline,\n",
    "                        preload=True)"
   ]
  },
  {
   "cell_type": "code",
   "execution_count": null,
   "id": "1a4a7f9c",
   "metadata": {},
   "outputs": [],
   "source": [
    "epochs_ica.info"
   ]
  },
  {
   "cell_type": "code",
   "execution_count": null,
   "id": "ac77d6d4",
   "metadata": {},
   "outputs": [],
   "source": [
    "n_components = 0.8  # Should normally be higher, like 0.999!!\n",
    "method = 'picard'\n",
    "max_iter = 100  # Should normally be higher, like 500 or even 1000!!\n",
    "fit_params = dict(fastica_it=5)\n",
    "random_state = 42\n",
    "\n",
    "ica = mne.preprocessing.ICA(n_components=n_components,\n",
    "    max_pca_components=300,\n",
    "                            method=method,\n",
    "                            max_iter=max_iter,\n",
    "                            fit_params=fit_params,\n",
    "                            random_state=random_state)\n",
    "ica.fit(epochs_ica)\n"
   ]
  },
  {
   "cell_type": "code",
   "execution_count": null,
   "id": "03c599e0",
   "metadata": {},
   "outputs": [],
   "source": [
    "ica.plot_components(inst=epochs)"
   ]
  },
  {
   "cell_type": "code",
   "execution_count": 18,
   "id": "a55a1b49",
   "metadata": {},
   "outputs": [
    {
     "ename": "NameError",
     "evalue": "name 'ica' is not defined",
     "output_type": "error",
     "traceback": [
      "\u001b[1;31m---------------------------------------------------------------------------\u001b[0m",
      "\u001b[1;31mNameError\u001b[0m                                 Traceback (most recent call last)",
      "Cell \u001b[1;32mIn [18], line 5\u001b[0m\n\u001b[0;32m      1\u001b[0m ecg_epochs \u001b[38;5;241m=\u001b[39m mne\u001b[38;5;241m.\u001b[39mpreprocessing\u001b[38;5;241m.\u001b[39mcreate_ecg_epochs(raw, reject\u001b[38;5;241m=\u001b[39m\u001b[38;5;28;01mNone\u001b[39;00m,\n\u001b[0;32m      2\u001b[0m                                                  baseline\u001b[38;5;241m=\u001b[39m(\u001b[38;5;28;01mNone\u001b[39;00m, \u001b[38;5;241m-\u001b[39m\u001b[38;5;241m0.2\u001b[39m),\n\u001b[0;32m      3\u001b[0m                                                  tmin\u001b[38;5;241m=\u001b[39m\u001b[38;5;241m-\u001b[39m\u001b[38;5;241m0.5\u001b[39m, tmax\u001b[38;5;241m=\u001b[39m\u001b[38;5;241m0.5\u001b[39m)\n\u001b[0;32m      4\u001b[0m ecg_evoked \u001b[38;5;241m=\u001b[39m ecg_epochs\u001b[38;5;241m.\u001b[39maverage()\n\u001b[1;32m----> 5\u001b[0m ecg_inds, ecg_scores \u001b[38;5;241m=\u001b[39m \u001b[43mica\u001b[49m\u001b[38;5;241m.\u001b[39mfind_bads_ecg(\n\u001b[0;32m      6\u001b[0m     ecg_epochs, method\u001b[38;5;241m=\u001b[39m\u001b[38;5;124m'\u001b[39m\u001b[38;5;124mctps\u001b[39m\u001b[38;5;124m'\u001b[39m)\n\u001b[0;32m      9\u001b[0m eog_epochs \u001b[38;5;241m=\u001b[39m mne\u001b[38;5;241m.\u001b[39mpreprocessing\u001b[38;5;241m.\u001b[39mcreate_eog_epochs(raw, reject\u001b[38;5;241m=\u001b[39m\u001b[38;5;28;01mNone\u001b[39;00m,\n\u001b[0;32m     10\u001b[0m                                                  baseline\u001b[38;5;241m=\u001b[39m(\u001b[38;5;28;01mNone\u001b[39;00m, \u001b[38;5;241m-\u001b[39m\u001b[38;5;241m0.2\u001b[39m),\n\u001b[0;32m     11\u001b[0m                                                  tmin\u001b[38;5;241m=\u001b[39m\u001b[38;5;241m-\u001b[39m\u001b[38;5;241m0.5\u001b[39m, tmax\u001b[38;5;241m=\u001b[39m\u001b[38;5;241m0.5\u001b[39m)\n\u001b[0;32m     12\u001b[0m eog_evoked \u001b[38;5;241m=\u001b[39m eog_epochs\u001b[38;5;241m.\u001b[39maverage()\n",
      "\u001b[1;31mNameError\u001b[0m: name 'ica' is not defined"
     ]
    }
   ],
   "source": [
    "ecg_epochs = mne.preprocessing.create_ecg_epochs(raw, reject=None,\n",
    "                                                 baseline=(None, -0.2),\n",
    "                                                 tmin=-0.5, tmax=0.5)\n",
    "ecg_evoked = ecg_epochs.average()\n",
    "ecg_inds, ecg_scores = ica.find_bads_ecg(\n",
    "    ecg_epochs, method='ctps')\n",
    "\n",
    "\n",
    "eog_epochs = mne.preprocessing.create_eog_epochs(raw, reject=None,\n",
    "                                                 baseline=(None, -0.2),\n",
    "                                                 tmin=-0.5, tmax=0.5)\n",
    "eog_evoked = eog_epochs.average()\n",
    "eog_inds, eog_scores = ica.find_bads_eog(\n",
    "    eog_epochs)\n",
    "\n",
    "components_to_exclude = ecg_inds + eog_inds\n",
    "ica.exclude = components_to_exclude"
   ]
  },
  {
   "cell_type": "code",
   "execution_count": 19,
   "id": "79d06b53",
   "metadata": {},
   "outputs": [
    {
     "ename": "NameError",
     "evalue": "name 'ica' is not defined",
     "output_type": "error",
     "traceback": [
      "\u001b[1;31m---------------------------------------------------------------------------\u001b[0m",
      "\u001b[1;31mNameError\u001b[0m                                 Traceback (most recent call last)",
      "Cell \u001b[1;32mIn [19], line 1\u001b[0m\n\u001b[1;32m----> 1\u001b[0m \u001b[43mica\u001b[49m\u001b[38;5;241m.\u001b[39mplot_scores(ecg_scores)\n",
      "\u001b[1;31mNameError\u001b[0m: name 'ica' is not defined"
     ]
    }
   ],
   "source": [
    "ica.plot_scores(ecg_scores)"
   ]
  },
  {
   "cell_type": "code",
   "execution_count": null,
   "id": "e53b90cf",
   "metadata": {},
   "outputs": [],
   "source": [
    "ica.plot_sources(ecg_evoked)"
   ]
  },
  {
   "cell_type": "code",
   "execution_count": 20,
   "id": "1a9c43f5",
   "metadata": {},
   "outputs": [
    {
     "ename": "NameError",
     "evalue": "name 'ica' is not defined",
     "output_type": "error",
     "traceback": [
      "\u001b[1;31m---------------------------------------------------------------------------\u001b[0m",
      "\u001b[1;31mNameError\u001b[0m                                 Traceback (most recent call last)",
      "Cell \u001b[1;32mIn [20], line 1\u001b[0m\n\u001b[1;32m----> 1\u001b[0m \u001b[43mica\u001b[49m\u001b[38;5;241m.\u001b[39mplot_overlay(ecg_evoked)\n",
      "\u001b[1;31mNameError\u001b[0m: name 'ica' is not defined"
     ]
    }
   ],
   "source": [
    "ica.plot_overlay(ecg_evoked)"
   ]
  },
  {
   "cell_type": "code",
   "execution_count": null,
   "id": "4c788c58",
   "metadata": {},
   "outputs": [],
   "source": []
  }
 ],
 "metadata": {
  "kernelspec": {
   "display_name": "Python 3 (ipykernel)",
   "language": "python",
   "name": "python3"
  },
  "language_info": {
   "codemirror_mode": {
    "name": "ipython",
    "version": 3
   },
   "file_extension": ".py",
   "mimetype": "text/x-python",
   "name": "python",
   "nbconvert_exporter": "python",
   "pygments_lexer": "ipython3",
   "version": "3.11.0"
  }
 },
 "nbformat": 4,
 "nbformat_minor": 5
}
