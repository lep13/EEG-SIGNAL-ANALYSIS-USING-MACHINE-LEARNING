{
 "cells": [
  {
   "cell_type": "code",
   "execution_count": 1,
   "id": "f5bdd9b9",
   "metadata": {},
   "outputs": [],
   "source": [
    "%matplotlib qt"
   ]
  },
  {
   "cell_type": "code",
   "execution_count": 2,
   "id": "007ace63",
   "metadata": {},
   "outputs": [],
   "source": [
    "import pathlib\n",
    "import matplotlib\n",
    "import matplotlib.pyplot as plt\n",
    "import mne\n",
    "\n",
    "matplotlib.use('Qt5Agg')\n",
    "mne.set_log_level('warning')"
   ]
  },
  {
   "cell_type": "code",
   "execution_count": 3,
   "id": "290af24a",
   "metadata": {},
   "outputs": [
    {
     "data": {
      "text/html": [
       "<table class=\"table table-hover table-striped table-sm table-responsive small\">\n",
       "    <tr>\n",
       "        <th>Number of events</th>\n",
       "        <td>320</td>\n",
       "    </tr>\n",
       "    <tr>\n",
       "        <th>Events</th>\n",
       "        \n",
       "        <td>Auditory/Left: 72<br/>Auditory/Right: 73<br/>Button: 16<br/>Smiley: 15<br/>Visual/Left: 73<br/>Visual/Right: 71</td>\n",
       "        \n",
       "    </tr>\n",
       "    <tr>\n",
       "        <th>Time range</th>\n",
       "        <td>-0.300 – 0.499 sec</td>\n",
       "    </tr>\n",
       "    <tr>\n",
       "        <th>Baseline</th>\n",
       "        <td>-0.300 – 0.000 sec</td>\n",
       "    </tr>\n",
       "</table>"
      ],
      "text/plain": [
       "<EpochsFIF |  320 events (all good), -0.299693 - 0.499488 sec, baseline -0.299693 – 0 sec, ~441.9 MB, data loaded,\n",
       " 'Auditory/Left': 72\n",
       " 'Auditory/Right': 73\n",
       " 'Button': 16\n",
       " 'Smiley': 15\n",
       " 'Visual/Left': 73\n",
       " 'Visual/Right': 71>"
      ]
     },
     "execution_count": 3,
     "metadata": {},
     "output_type": "execute_result"
    }
   ],
   "source": [
    "epochs = mne.read_epochs(pathlib.Path('out_data') / 'epochs_epo.fif')\n",
    "epochs.apply_baseline((None, 0))\n",
    "epochs"
   ]
  },
  {
   "cell_type": "code",
   "execution_count": 4,
   "id": "cfdebb76",
   "metadata": {},
   "outputs": [
    {
     "data": {
      "text/html": [
       "<table class=\"table table-hover table-striped table-sm table-responsive small\">\n",
       "    <tr>\n",
       "        <th>Number of events</th>\n",
       "        <td>145</td>\n",
       "    </tr>\n",
       "    <tr>\n",
       "        <th>Events</th>\n",
       "        \n",
       "        <td>Auditory/Left: 72<br/>Auditory/Right: 73</td>\n",
       "        \n",
       "    </tr>\n",
       "    <tr>\n",
       "        <th>Time range</th>\n",
       "        <td>-0.300 – 0.499 sec</td>\n",
       "    </tr>\n",
       "    <tr>\n",
       "        <th>Baseline</th>\n",
       "        <td>-0.300 – 0.000 sec</td>\n",
       "    </tr>\n",
       "</table>"
      ],
      "text/plain": [
       "<EpochsFIF |  145 events (all good), -0.299693 - 0.499488 sec, baseline -0.299693 – 0 sec, ~200.5 MB, data loaded,\n",
       " 'Auditory/Left': 72\n",
       " 'Auditory/Right': 73>"
      ]
     },
     "execution_count": 4,
     "metadata": {},
     "output_type": "execute_result"
    }
   ],
   "source": [
    "epochs_auditory = epochs['Auditory']\n",
    "epochs_auditory"
   ]
  },
  {
   "cell_type": "code",
   "execution_count": 5,
   "id": "1ea6f971",
   "metadata": {},
   "outputs": [
    {
     "data": {
      "text/plain": [
       "[<Figure size 800x600 with 1 Axes>,\n",
       " <Figure size 800x600 with 1 Axes>,\n",
       " <Figure size 800x600 with 1 Axes>]"
      ]
     },
     "execution_count": 5,
     "metadata": {},
     "output_type": "execute_result"
    }
   ],
   "source": [
    "evoked_diff = mne.combine_evoked(\n",
    "    [epochs_auditory['Auditory/Left'].average(),\n",
    "     epochs_auditory['Auditory/Right'].average()],\n",
    "    weights=[1, -1]  # Subtraction\n",
    ")\n",
    "\n",
    "evoked_diff.plot(gfp=True)\n",
    "mne.viz.plot_compare_evokeds(\n",
    "    [epochs_auditory['Auditory/Left'].average(),\n",
    "     epochs_auditory['Auditory/Right'].average(),\n",
    "     evoked_diff]\n",
    ")"
   ]
  },
  {
   "cell_type": "code",
   "execution_count": 6,
   "id": "c7d27ff2",
   "metadata": {},
   "outputs": [
    {
     "data": {
      "text/html": [
       "<table class=\"table table-hover table-striped table-sm table-responsive small\">\n",
       "    <tr>\n",
       "        <th>Number of events</th>\n",
       "        <td>144</td>\n",
       "    </tr>\n",
       "    <tr>\n",
       "        <th>Events</th>\n",
       "        \n",
       "        <td>Auditory/Left: 72<br/>Auditory/Right: 72</td>\n",
       "        \n",
       "    </tr>\n",
       "    <tr>\n",
       "        <th>Time range</th>\n",
       "        <td>-0.300 – 0.499 sec</td>\n",
       "    </tr>\n",
       "    <tr>\n",
       "        <th>Baseline</th>\n",
       "        <td>-0.300 – 0.000 sec</td>\n",
       "    </tr>\n",
       "</table>"
      ],
      "text/plain": [
       "<EpochsFIF |  144 events (all good), -0.299693 - 0.499488 sec, baseline -0.299693 – 0 sec, ~199.1 MB, data loaded,\n",
       " 'Auditory/Left': 72\n",
       " 'Auditory/Right': 72>"
      ]
     },
     "execution_count": 6,
     "metadata": {},
     "output_type": "execute_result"
    }
   ],
   "source": [
    "epochs_auditory.equalize_event_counts(epochs_auditory.event_id)\n",
    "epochs_auditory"
   ]
  },
  {
   "cell_type": "code",
   "execution_count": 7,
   "id": "0fe2e2b3",
   "metadata": {},
   "outputs": [
    {
     "name": "stdout",
     "output_type": "stream",
     "text": [
      "[1 0 1 0 1 0 1 0 1 0 1 0 1 0 1 0 1 0 1 0 1 0 1 0 1 0 1 0 1 0 1 0 1 0 1 0 1\n",
      " 0 0 1 0 1 0 1 0 1 0 1 0 1 0 1 0 1 0 1 1 0 1 0 1 0 1 0 1 0 1 0 1 0 1 0 1 0\n",
      " 1 0 0 1 0 1 0 1 0 1 0 1 0 1 0 1 0 1 0 1 1 0 1 0 1 0 1 0 1 0 0 1 0 1 0 1 0\n",
      " 1 0 1 0 1 0 1 0 1 0 1 1 0 1 0 1 0 1 0 1 0 1 0 1 0 1 0 1 0 1 0 1 0]\n",
      "\n",
      "Size of y: 144\n"
     ]
    }
   ],
   "source": [
    "import numpy as np\n",
    "\n",
    "# Create an vector with length = no. of trials.\n",
    "y = np.empty(len(epochs_auditory.events), dtype=int)  \n",
    "\n",
    "# Which trials are LEFT, which are RIGHT?\n",
    "idx_left = epochs_auditory.events[:, 2] == epochs_auditory.event_id['Auditory/Left']\n",
    "idx_right = epochs_auditory.events[:, 2] == epochs_auditory.event_id['Auditory/Right']\n",
    "\n",
    "# Encode: LEFT = 0, RIGHT = 1.\n",
    "y[idx_left] = 0\n",
    "y[idx_right] = 1\n",
    "\n",
    "print(y)\n",
    "print(f'\\nSize of y: {y.size}')"
   ]
  },
  {
   "cell_type": "code",
   "execution_count": 8,
   "id": "be5b01e5",
   "metadata": {},
   "outputs": [
    {
     "name": "stdout",
     "output_type": "stream",
     "text": [
      "(144, 203, 481)\n"
     ]
    }
   ],
   "source": [
    "epochs_auditory_grad = epochs_auditory.copy().pick_types(meg='grad')\n",
    "\n",
    "# Retrieve the data as a NumPy array.\n",
    "# The array has the shape: (n_trials, n_channels, n_timepoints)\n",
    "data = epochs_auditory_grad.get_data()\n",
    "print(data.shape)"
   ]
  },
  {
   "cell_type": "code",
   "execution_count": 9,
   "id": "bfab9b6e",
   "metadata": {},
   "outputs": [
    {
     "name": "stdout",
     "output_type": "stream",
     "text": [
      "(144, 97643)\n"
     ]
    }
   ],
   "source": [
    "n_trials = data.shape[0]\n",
    "\n",
    "X = data.reshape(n_trials, -1)\n",
    "print(X.shape)"
   ]
  },
  {
   "cell_type": "code",
   "execution_count": 10,
   "id": "b7928153",
   "metadata": {},
   "outputs": [
    {
     "name": "stdout",
     "output_type": "stream",
     "text": [
      "CV scores: [0.94285714 0.84761905 0.86666667 0.90952381 0.9744898 ]\n",
      "Mean ROC AUC = 0.908 (SD = 0.047)\n"
     ]
    }
   ],
   "source": [
    "from sklearn.model_selection import StratifiedKFold, cross_val_score\n",
    "from sklearn.linear_model import LogisticRegression\n",
    "from sklearn.preprocessing import StandardScaler\n",
    "from sklearn.pipeline import make_pipeline\n",
    "\n",
    "\n",
    "# The classifier pipeline: it is extremely important to scale the data\n",
    "# before running the actual classifier (logistic regression in our case).\n",
    "clf = make_pipeline(StandardScaler(),\n",
    "                    LogisticRegression())\n",
    "\n",
    "# Run cross-validation.\n",
    "# CV without shuffling – \"block cross-validation\" – is what we want here\n",
    "# (scikit-learn doesn't shuffle by default, which is good for us).\n",
    "n_splits = 5\n",
    "scoring = 'roc_auc'\n",
    "cv = StratifiedKFold(n_splits=n_splits)\n",
    "scores = cross_val_score(clf, X=X, y=y, cv=cv, scoring=scoring)\n",
    "\n",
    "# Mean and standard deviation of ROC AUC across cross-validation runs.\n",
    "roc_auc_mean = round(np.mean(scores), 3)\n",
    "roc_auc_std = round(np.std(scores), 3)\n",
    "\n",
    "print(f'CV scores: {scores}')\n",
    "print(f'Mean ROC AUC = {roc_auc_mean:.3f} (SD = {roc_auc_std:.3f})')"
   ]
  },
  {
   "cell_type": "code",
   "execution_count": 11,
   "id": "8762c9a4",
   "metadata": {},
   "outputs": [
    {
     "data": {
      "text/plain": [
       "Text(0.5, 1.0, 'Cross-Validation Scores')"
      ]
     },
     "execution_count": 11,
     "metadata": {},
     "output_type": "execute_result"
    }
   ],
   "source": [
    "fig, ax = plt.subplots()\n",
    "ax.boxplot(scores,\n",
    "           showmeans=True, # Green triangle marks the mean.\n",
    "           whis=(0, 100),  # Whiskers span the entire range of the data.\n",
    "           labels=['Left vs Right'])\n",
    "ax.set_ylabel('Score')\n",
    "ax.set_title('Cross-Validation Scores')"
   ]
  },
  {
   "cell_type": "code",
   "execution_count": 12,
   "id": "790b2bc0",
   "metadata": {},
   "outputs": [
    {
     "ename": "NameError",
     "evalue": "name 'epochs_grad' is not defined",
     "output_type": "error",
     "traceback": [
      "\u001b[1;31m---------------------------------------------------------------------------\u001b[0m",
      "\u001b[1;31mNameError\u001b[0m                                 Traceback (most recent call last)",
      "Cell \u001b[1;32mIn [12], line 13\u001b[0m\n\u001b[0;32m      7\u001b[0m y \u001b[38;5;241m=\u001b[39m epochs_auditory_grad\u001b[38;5;241m.\u001b[39mevents[:, \u001b[38;5;241m2\u001b[39m]\n\u001b[0;32m      9\u001b[0m \u001b[38;5;66;03m# Classifier pipeline.\u001b[39;00m\n\u001b[0;32m     10\u001b[0m clf \u001b[38;5;241m=\u001b[39m make_pipeline(\n\u001b[0;32m     11\u001b[0m     \u001b[38;5;66;03m# An MNE scaler that correctly handles different channel types –\u001b[39;00m\n\u001b[0;32m     12\u001b[0m     \u001b[38;5;66;03m# isn't that great?!\u001b[39;00m\n\u001b[1;32m---> 13\u001b[0m     Scaler(\u001b[43mepochs_grad\u001b[49m\u001b[38;5;241m.\u001b[39minfo),\n\u001b[0;32m     14\u001b[0m     \u001b[38;5;66;03m# Remember this annoying and error-prone NumPy array reshaping we had to do\u001b[39;00m\n\u001b[0;32m     15\u001b[0m     \u001b[38;5;66;03m# earlier? Not anymore, thanks to the MNE vectorizer!\u001b[39;00m\n\u001b[0;32m     16\u001b[0m     Vectorizer(),\n\u001b[0;32m     17\u001b[0m     \u001b[38;5;66;03m# And, finally, the actual classifier.\u001b[39;00m\n\u001b[0;32m     18\u001b[0m     LogisticRegression())\n\u001b[0;32m     20\u001b[0m \u001b[38;5;66;03m# Run cross-validation.\u001b[39;00m\n\u001b[0;32m     21\u001b[0m \u001b[38;5;66;03m# Note that we're using MNE's cross_val_multiscore() here, not scikit-learn's\u001b[39;00m\n\u001b[0;32m     22\u001b[0m \u001b[38;5;66;03m# cross_val_score() as above. We simply pass the number of desired CV splits,\u001b[39;00m\n\u001b[0;32m     23\u001b[0m \u001b[38;5;66;03m# and MNE will automatically do the rest for us.\u001b[39;00m\n\u001b[0;32m     24\u001b[0m n_splits \u001b[38;5;241m=\u001b[39m \u001b[38;5;241m5\u001b[39m\n",
      "\u001b[1;31mNameError\u001b[0m: name 'epochs_grad' is not defined"
     ]
    }
   ],
   "source": [
    "from sklearn.pipeline import make_pipeline\n",
    "from mne.decoding import Scaler, Vectorizer, cross_val_multiscore\n",
    "\n",
    "# First, create X and y.\n",
    "epochs_auditory_grad = epochs_auditory.copy().pick_types(meg='grad')\n",
    "X = epochs_auditory_grad.get_data()\n",
    "y = epochs_auditory_grad.events[:, 2]\n",
    "\n",
    "# Classifier pipeline.\n",
    "clf = make_pipeline(\n",
    "    # An MNE scaler that correctly handles different channel types –\n",
    "    # isn't that great?!\n",
    "    Scaler(epochs_grad.info),\n",
    "    # Remember this annoying and error-prone NumPy array reshaping we had to do\n",
    "    # earlier? Not anymore, thanks to the MNE vectorizer!\n",
    "    Vectorizer(),\n",
    "    # And, finally, the actual classifier.\n",
    "    LogisticRegression())\n",
    "\n",
    "# Run cross-validation.\n",
    "# Note that we're using MNE's cross_val_multiscore() here, not scikit-learn's\n",
    "# cross_val_score() as above. We simply pass the number of desired CV splits,\n",
    "# and MNE will automatically do the rest for us.\n",
    "n_splits = 5\n",
    "scoring = 'roc_auc'\n",
    "scores = cross_val_multiscore(clf, X, y, cv=5, scoring='roc_auc')\n",
    "\n",
    "# Mean and standard deviation of ROC AUC across cross-validation runs.\n",
    "roc_auc_mean = round(np.mean(scores), 3)\n",
    "roc_auc_std = round(np.std(scores), 3)\n",
    "\n",
    "print(f'CV scores: {scores}')\n",
    "print(f'Mean ROC AUC = {roc_auc_mean:.3f} (SD = {roc_auc_std:.3f})')"
   ]
  },
  {
   "cell_type": "code",
   "execution_count": null,
   "id": "bebf3733",
   "metadata": {},
   "outputs": [],
   "source": [
    "from sklearn.preprocessing import StandardScaler\n",
    "from mne.decoding import SlidingEstimator\n",
    "\n",
    "# First, create X and y.\n",
    "epochs_auditory_grad = epochs_auditory.copy().pick_types(meg='grad')\n",
    "X = epochs_auditory_grad.get_data()\n",
    "y = epochs_auditory_grad.events[:, 2]\n",
    "\n",
    "# Classifier pipeline. No need for vectorization as in the previous example.\n",
    "clf = make_pipeline(StandardScaler(),\n",
    "                    LogisticRegression())\n",
    "\n",
    "# The \"sliding estimator\" will train the classifier at each time point.\n",
    "scoring = 'roc_auc'\n",
    "time_decoder = SlidingEstimator(clf, scoring=scoring, n_jobs=1, verbose=True)\n",
    "\n",
    "# Run cross-validation.\n",
    "n_splits = 5\n",
    "scores = cross_val_multiscore(time_decoder, X, y, cv=5, n_jobs=1)\n",
    "\n",
    "# Mean scores across cross-validation splits, for each time point.\n",
    "mean_scores = np.mean(scores, axis=0)\n",
    "\n",
    "# Mean score across all time points.\n",
    "mean_across_all_times = round(np.mean(scores), 3)\n",
    "print(f'\\n=> Mean CV score across all time points: {mean_across_all_times:.3f}')"
   ]
  },
  {
   "cell_type": "code",
   "execution_count": null,
   "id": "4f257cb0",
   "metadata": {},
   "outputs": [],
   "source": [
    "fig, ax = plt.subplots()\n",
    "\n",
    "ax.axhline(0.5, color='k', linestyle='--', label='chance')  # AUC = 0.5\n",
    "ax.axvline(0, color='k', linestyle='-')  # Mark time point zero.\n",
    "ax.plot(epochs.times, mean_scores, label='score')\n",
    "\n",
    "ax.set_xlabel('Time (s)')\n",
    "ax.set_ylabel('Mean ROC AUC')\n",
    "ax.legend()\n",
    "ax.set_title('Left vs Right')\n",
    "fig.suptitle('Sensor Space Decoding')"
   ]
  },
  {
   "cell_type": "code",
   "execution_count": null,
   "id": "481ceebb",
   "metadata": {},
   "outputs": [],
   "source": []
  }
 ],
 "metadata": {
  "kernelspec": {
   "display_name": "Python 3 (ipykernel)",
   "language": "python",
   "name": "python3"
  },
  "language_info": {
   "codemirror_mode": {
    "name": "ipython",
    "version": 3
   },
   "file_extension": ".py",
   "mimetype": "text/x-python",
   "name": "python",
   "nbconvert_exporter": "python",
   "pygments_lexer": "ipython3",
   "version": "3.11.0"
  }
 },
 "nbformat": 4,
 "nbformat_minor": 5
}
